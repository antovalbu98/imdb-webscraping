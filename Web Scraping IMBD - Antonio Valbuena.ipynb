{
 "cells": [
  {
   "cell_type": "markdown",
   "metadata": {},
   "source": [
    "# Web Scraping IMBD Action Movies\n",
    "\n",
    "Author: [Antonio Valbuena](https://www.linkedin.com/in/antonio-valbuena-s%C3%A1nchez-960718130/)\n"
   ]
  },
  {
   "cell_type": "markdown",
   "metadata": {},
   "source": [
    "<table><tr>\n",
    "<td> <img src=\"https://m.media-amazon.com/images/G/01/IMDb/BG_rectangle._CB1509060989_SY230_SX307_AL_.png\" alt=\"Drawing\" style=\"width: 250px;\"/> </td>\n",
    "<td> <img src=\"https://nofilmschool.com/sites/default/files/styles/article_wide/public/rambo_0.jpg?itok=K3d91BmS\" alt=\"Drawing\" style=\"width: 450px;\"/> </td>\n",
    "</tr></table>\n",
    " &nbsp;&nbsp;&nbsp;&nbsp;&nbsp;&nbsp;&nbsp;&nbsp;&nbsp;&nbsp;&nbsp;&nbsp; &nbsp;&nbsp;&nbsp;&nbsp;&nbsp;&nbsp; &nbsp;&nbsp;&nbsp;&nbsp;&nbsp;&nbsp; &nbsp;&nbsp;&nbsp;&nbsp;&nbsp;&nbsp; &nbsp;&nbsp;&nbsp;&nbsp;&nbsp;&nbsp; Yours truly, unleashing his web scraping code on the IMDB site (<i>dramatization<i>) \n",
    "\n",
    "\n",
    "\n"
   ]
  },
  {
   "cell_type": "markdown",
   "metadata": {},
   "source": [
    "## Introduction\n",
    "\n",
    "<span>&#x1f1ec;&#x1f1e7;</span> I learned web scraping recently and have decided to put it into practice on the movie website [IMDB](https://www.imdb.com/). My goal is to web scrape information for as many Action movies as I can and to perform further analysis on them. The information I aim to obtain from each movie is:\n",
    "\n",
    "+ Title of the movie\n",
    "+ Year\n",
    "+ Duration\n",
    "+ Imdb rating\n",
    "+ Metascore rating (critics\n",
    "+ Director and main stars\n",
    "\n",
    "---\n",
    "\n",
    "<span>&#x1f1ea;&#x1f1f8;</span> Aprendí web scraping hace poco y he decidido ponerlo en práctica sobre la web de pelis [IMDB](https://www.imdb.com/). Mi objetivo será obtener información para el mayor número de películas de acción posible para después analizarlas. La información para cada película que deseo obtener es:\n",
    "\n",
    "+ Título de la peli\n",
    "+ Año\n",
    "+ Duración\n",
    "+ Rating Imdb (comunidad)\n",
    "+ Rating Metascore (críticos)\n",
    "+ Director y estrellas principales\n"
   ]
  },
  {
   "cell_type": "markdown",
   "metadata": {},
   "source": [
    "## Importing libraries\n",
    "\n",
    "<span>&#x1f1ec;&#x1f1e7;</span> We start by importing all necessary libraries\n",
    "\n",
    "---\n",
    "\n",
    "<span>&#x1f1ea;&#x1f1f8;</span> Empezamos importando las librerias necesarias\n"
   ]
  },
  {
   "cell_type": "code",
   "execution_count": 498,
   "metadata": {},
   "outputs": [],
   "source": [
    "from urllib.request import urlopen as uReq # to grab webpage\n",
    "from bs4 import BeautifulSoup as soup # to parse HTML text\n",
    "import pandas as pd # to clean and analyse the data retrieved\n",
    "import numpy as np # to clean and analyse the data retrieved\n",
    "from time import sleep # to pause the execution of the loop\n",
    "from random import randint # to pause the execution of the loop\n",
    "import seaborn as sns # to plot visualisations of the data\n",
    "import matplotlib.pyplot as plt # to plot visualisations of the data\n",
    "import datetime"
   ]
  },
  {
   "cell_type": "markdown",
   "metadata": {},
   "source": [
    "## Testing content selection: one page and one movie\n",
    "\n",
    "<span>&#x1f1ec;&#x1f1e7;</span> We first focus on one individual page, the first one, to study its architecture; where the elements we want are and how we can retrieve them.\n",
    "\n",
    "---\n",
    "\n",
    "<span>&#x1f1ea;&#x1f1f8;</span> Ahora, nos centramos en una página en particular, la primera, para estudiar su arquitectura; dónde están los elementos que queremos scrapear y cómo accedemos a ellos"
   ]
  },
  {
   "cell_type": "code",
   "execution_count": null,
   "metadata": {},
   "outputs": [],
   "source": [
    "# base url from which we gather the data\n",
    "url_1 = \"https://www.imdb.com/search/title/?title_type=feature&genres=action&start=1\""
   ]
  },
  {
   "cell_type": "code",
   "execution_count": 306,
   "metadata": {},
   "outputs": [],
   "source": [
    "uClient = uReq(url_1) # grab first page\n",
    "page_html = uClient.read() # read page\n",
    "#sleep(randint(4,10))\n",
    "uClient.close() # close the client\n",
    "page_soup = soup(page_html, \"html.parser\") #Parse html with beautiful soup"
   ]
  },
  {
   "cell_type": "markdown",
   "metadata": {},
   "source": [
    "<span>&#x1f1ec;&#x1f1e7;</span>  We want to retrieve the info for 50 movies in these page. The info for each movie is in a container called __\"lister-item mode-advanced\"__ \n",
    "\n",
    "This is a matter of pure experimentation; for different websites and projects, you will want to retrieve different things and they will have different names. On your browser, inspect the HTML of elements of the website and do trial and error until you find the name of what you want. \n",
    "\n",
    "---\n",
    "\n",
    "<span>&#x1f1ea;&#x1f1f8;</span> Queremos obetener informacion para las 50 pelis de esta página. La info para cada peli está en un container llamado __\"lister-item mode-advanced\"__ \n",
    "\n",
    "Esta información es una cuestión de pura experimentación; para diferentes webs y proyectos, querrás acceder a material distinto y este tendrá nombres diferentes. En tu buscador, inspecciona el HTML de los elementos de la web, brujulea y haz prueba y error hasta que encuentres el nombre de lo que buscas."
   ]
  },
  {
   "cell_type": "code",
   "execution_count": 307,
   "metadata": {},
   "outputs": [
    {
     "data": {
      "text/plain": [
       "50"
      ]
     },
     "execution_count": 307,
     "metadata": {},
     "output_type": "execute_result"
    }
   ],
   "source": [
    "containers = page_soup.findAll(\"div\", {\"class\" : \"lister-item mode-advanced\"}) \n",
    "# we retrieve all the movies in our website\n",
    "\n",
    "len(containers)"
   ]
  },
  {
   "cell_type": "markdown",
   "metadata": {},
   "source": [
    "<span>&#x1f1ec;&#x1f1e7;</span> Now, we take one container in particular and experiment ways to get all the elements we want. Remember we would like to get:\n",
    "+ Title of the movie\n",
    "+ Year\n",
    "+ Imbd rating\n",
    "+ Metascore rating\n",
    "+ Director and main stars\n",
    "+ Duration\n",
    "\n",
    "---\n",
    "\n",
    "<span>&#x1f1ea;&#x1f1f8;</span> Ahora, tomamos un container (una película) y experimentamos cómo coger los elementos que queremos:\n",
    "\n",
    "+ Título de la peli\n",
    "+ Año\n",
    "+ Duración\n",
    "+ Rating Imdb (comunidad)\n",
    "+ Rating Metascore (críticos)\n",
    "+ Director y estrellas principales"
   ]
  },
  {
   "cell_type": "code",
   "execution_count": 308,
   "metadata": {},
   "outputs": [],
   "source": [
    "cont = containers[23]"
   ]
  },
  {
   "cell_type": "markdown",
   "metadata": {},
   "source": [
    "### title"
   ]
  },
  {
   "cell_type": "code",
   "execution_count": 309,
   "metadata": {},
   "outputs": [
    {
     "data": {
      "text/plain": [
       "'Monster Hunter'"
      ]
     },
     "execution_count": 309,
     "metadata": {},
     "output_type": "execute_result"
    }
   ],
   "source": [
    "# titulo\n",
    "cont.img[\"alt\"]"
   ]
  },
  {
   "cell_type": "markdown",
   "metadata": {},
   "source": [
    "### year"
   ]
  },
  {
   "cell_type": "code",
   "execution_count": 21,
   "metadata": {},
   "outputs": [
    {
     "data": {
      "text/plain": [
       "'(2021)'"
      ]
     },
     "execution_count": 21,
     "metadata": {},
     "output_type": "execute_result"
    }
   ],
   "source": [
    "# year\n",
    "cont.findAll(\"span\", {\"class\" : \"lister-item-year text-muted unbold\"})[0].text"
   ]
  },
  {
   "cell_type": "markdown",
   "metadata": {},
   "source": [
    "### duration"
   ]
  },
  {
   "cell_type": "code",
   "execution_count": 24,
   "metadata": {},
   "outputs": [
    {
     "data": {
      "text/plain": [
       "'114 min'"
      ]
     },
     "execution_count": 24,
     "metadata": {},
     "output_type": "execute_result"
    }
   ],
   "source": [
    "# duration\n",
    "cont.findAll(\"span\", {\"class\" : \"runtime\"})[0].text"
   ]
  },
  {
   "cell_type": "markdown",
   "metadata": {},
   "source": [
    "### imdb rating"
   ]
  },
  {
   "cell_type": "code",
   "execution_count": 30,
   "metadata": {},
   "outputs": [
    {
     "data": {
      "text/plain": [
       "'\\n\\n5.3\\n'"
      ]
     },
     "execution_count": 30,
     "metadata": {},
     "output_type": "execute_result"
    }
   ],
   "source": [
    "# imdb rating: careful, not all movies have it\n",
    "cont.findAll(\"div\", {\"class\" : \"inline-block ratings-imdb-rating\"})[0].text"
   ]
  },
  {
   "cell_type": "markdown",
   "metadata": {},
   "source": [
    "### metascore rating"
   ]
  },
  {
   "cell_type": "code",
   "execution_count": 174,
   "metadata": {},
   "outputs": [
    {
     "data": {
      "text/plain": [
       "'\\n45        \\n        Metascore\\n            '"
      ]
     },
     "execution_count": 174,
     "metadata": {},
     "output_type": "execute_result"
    }
   ],
   "source": [
    "# metascore\n",
    "cont.findAll(\"div\", {\"class\" : \"inline-block ratings-metascore\"})[0].text\n"
   ]
  },
  {
   "cell_type": "markdown",
   "metadata": {},
   "source": [
    "### director"
   ]
  },
  {
   "cell_type": "code",
   "execution_count": 483,
   "metadata": {},
   "outputs": [
    {
     "data": {
      "text/plain": [
       "[<a href=\"/name/nm0062614/\">Harry Baweja</a>,\n",
       " <a href=\"/name/nm0222426/\">Ajay Devgn</a>,\n",
       " <a href=\"/name/nm0007107/\">Urmila Matondkar</a>,\n",
       " <a href=\"/name/nm0154274/\">Mahima Chaudhry</a>,\n",
       " <a href=\"/name/nm0712546/\">Paresh Rawal</a>]"
      ]
     },
     "execution_count": 483,
     "metadata": {},
     "output_type": "execute_result"
    }
   ],
   "source": [
    "# director & stars\n",
    "cont.findAll(\"p\", {\"class\" : \"\"})[0].findAll(\"a\")"
   ]
  },
  {
   "cell_type": "code",
   "execution_count": 255,
   "metadata": {},
   "outputs": [
    {
     "data": {
      "text/plain": [
       "False"
      ]
     },
     "execution_count": 255,
     "metadata": {},
     "output_type": "execute_result"
    }
   ],
   "source": [
    "\"Director:\" in cont.findAll(\"p\", {\"class\" : \"\"})[0]"
   ]
  },
  {
   "cell_type": "code",
   "execution_count": 274,
   "metadata": {},
   "outputs": [
    {
     "data": {
      "text/plain": [
       "[<a href=\"/name/nm0000170/\">Milla Jovovich</a>,\n",
       " <a href=\"/name/nm1388074/\">Tony Jaa</a>,\n",
       " <a href=\"/name/nm1939267/\">T.I.</a>,\n",
       " <a href=\"/name/nm0328709/\">Meagan Good</a>]"
      ]
     },
     "execution_count": 274,
     "metadata": {},
     "output_type": "execute_result"
    }
   ],
   "source": [
    "cont.findAll(\"p\", {\"class\" : \"\"})[0].findAll(\"a\")[]"
   ]
  },
  {
   "cell_type": "code",
   "execution_count": 207,
   "metadata": {},
   "outputs": [
    {
     "data": {
      "text/plain": [
       "'Paul W.S. Anderson'"
      ]
     },
     "execution_count": 207,
     "metadata": {},
     "output_type": "execute_result"
    }
   ],
   "source": [
    "cont.findAll(\"p\", {\"class\" : \"\"})[0].findAll(\"a\")[0].text"
   ]
  },
  {
   "cell_type": "markdown",
   "metadata": {},
   "source": [
    "### stars"
   ]
  },
  {
   "cell_type": "code",
   "execution_count": 278,
   "metadata": {},
   "outputs": [
    {
     "data": {
      "text/plain": [
       "['Milla Jovovich', ' Tony Jaa', ' T.I.', ' Meagan Good']"
      ]
     },
     "execution_count": 278,
     "metadata": {},
     "output_type": "execute_result"
    }
   ],
   "source": [
    "cont.findAll(\"p\", {\"class\" : \"\"})[0].text.split(\"Stars:\")[1].replace(\"\\n\", \"\").split(\",\")"
   ]
  },
  {
   "cell_type": "code",
   "execution_count": 269,
   "metadata": {},
   "outputs": [
    {
     "data": {
      "text/plain": [
       "['    Director:Paul W.S. Anderson|     ']"
      ]
     },
     "execution_count": 269,
     "metadata": {},
     "output_type": "execute_result"
    }
   ],
   "source": [
    "cont.findAll(\"p\", {\"class\" : \"\"})[0].text.split(\"Stars:\")[0].replace(\"\\n\", \"\").split(\",\")"
   ]
  },
  {
   "cell_type": "code",
   "execution_count": 248,
   "metadata": {},
   "outputs": [
    {
     "data": {
      "text/plain": [
       "'Paul W.S. Anderson'"
      ]
     },
     "execution_count": 248,
     "metadata": {},
     "output_type": "execute_result"
    }
   ],
   "source": [
    "cont.findAll(\"p\", {\"class\" : \"\"})[0].text.split(\"|\")[0].replace(\"\\n\", \"\").split(\":\")[1]"
   ]
  },
  {
   "cell_type": "markdown",
   "metadata": {},
   "source": [
    "### Number of votes"
   ]
  },
  {
   "cell_type": "code",
   "execution_count": 40,
   "metadata": {},
   "outputs": [
    {
     "data": {
      "text/plain": [
       "'20,937'"
      ]
     },
     "execution_count": 40,
     "metadata": {},
     "output_type": "execute_result"
    }
   ],
   "source": [
    "# n votes\n",
    "cont.findAll(\"span\", {\"name\" : \"nv\"})[0].text"
   ]
  },
  {
   "cell_type": "markdown",
   "metadata": {},
   "source": [
    "## Scraping a whole page\n",
    "\n",
    "<span>&#x1f1ec;&#x1f1e7;</span> Once we know how to get all the elements we want out of a particular movie, we just need to do a loop to get these bits of information for all movies in the page. The syntax gets slightly more complex because although the structure of the website for all movies is extremely similar, it is not identical, so we need to account for this with some if else conditions to prevent our code from breaking. For instance, since not all movies have a IMDB rating, we need to add a backstop in case this field is empty. For each movie, we add the information we are retrieving to several lists, which will then be transformed to columns in a dataset. \n",
    "\n",
    "---\n",
    "\n",
    "<span>&#x1f1ea;&#x1f1f8;</span> Una vez sabemos cómo obtener todos los elementos deseados de una película, con un simple loop podremos obtener esta información para todas las películas de la página. Sin embargo, la sintaxis se vuelve un pelín más compleja puesto que pese a que la estructura para cada película en la web es muy similar, no es idéntica, por lo que tenemos que cubrir esto con algunas condiciones if else para evitar que nuestro código se rompa. Por ejemplo, dado que no todas las películas tienen un rating de IMDB, tenemos que añadir una salvaguarda en caso que este campo se encuentre vacío. Para cada película, añadimos la información que estamos obteniendo a una de varias listas que posteriormente serán las columnas de nuestro dataste.\n"
   ]
  },
  {
   "cell_type": "code",
   "execution_count": 310,
   "metadata": {},
   "outputs": [],
   "source": [
    "titles = []\n",
    "years = []\n",
    "durations = []\n",
    "imbd_ratings = []\n",
    "met_ratings = []\n",
    "nvotes = []\n",
    "directors = []\n",
    "stars = []\n",
    "\n",
    "for cont in containers:\n",
    "    \n",
    "    # titulo\n",
    "    tit = cont.img[\"alt\"]\n",
    "    \n",
    "    # year\n",
    "    yr = cont.findAll(\"span\", {\"class\" : \"lister-item-year text-muted unbold\"})[0].text\n",
    "    \n",
    "    # duration\n",
    "    if len(cont.findAll(\"span\", {\"class\" : \"runtime\"})) > 0:\n",
    "        dur = cont.findAll(\"span\", {\"class\" : \"runtime\"})[0].text\n",
    "    else:\n",
    "        dur = np.nan\n",
    "        \n",
    "    # imbd rating: careful, not all movies have it\n",
    "    if len(cont.findAll(\"div\", {\"class\" : \"inline-block ratings-imdb-rating\"})) > 0:\n",
    "        imbd_rat = cont.findAll(\"div\", {\"class\" : \"inline-block ratings-imdb-rating\"})[0].text\n",
    "    else:\n",
    "        imbd_rat = np.nan\n",
    "    \n",
    "    # metascore\n",
    "    if len(cont.findAll(\"div\", {\"class\" : \"inline-block ratings-metascore\"})) > 0:\n",
    "        met_rat = cont.findAll(\"div\", {\"class\" : \"inline-block ratings-metascore\"})[0].text\n",
    "    else:\n",
    "        met_rat = np.nan\n",
    "        \n",
    "    # director\n",
    "    if \"Director\" in str(cont.findAll(\"p\", {\"class\" : \"\"})[0]) and len(cont.findAll(\"p\", {\"class\" : \"\"})) > 0:\n",
    "        direct = cont.findAll(\"p\", {\"class\" : \"\"})[0].text.split(\"|\")[0].replace(\"\\n\", \"\").split(\":\")[1]\n",
    "    else:\n",
    "        direct = np.nan\n",
    "      \n",
    "    # stars\n",
    "    if \"Stars\" in str(cont.findAll(\"p\", {\"class\" : \"\"})[0]) and len(cont.findAll(\"p\", {\"class\" : \"\"})) > 0:\n",
    "        star = cont.findAll(\"p\", {\"class\" : \"\"})[0].text.split(\"Stars:\")[1].replace(\"\\n\", \"\").split(\",\")\n",
    "    else:\n",
    "        star = np.nan\n",
    "        \n",
    "    # n votes\n",
    "    if len(cont.findAll(\"span\", {\"name\" : \"nv\"})) > 0:\n",
    "        nvot = cont.findAll(\"span\", {\"name\" : \"nv\"})[0].text\n",
    "    else:\n",
    "        nvot = np.nan\n",
    "    \n",
    "    # append to lists\n",
    "    \n",
    "    titles.append(tit)\n",
    "    years.append(yr)\n",
    "    durations.append(dur)\n",
    "    imbd_ratings.append(imbd_rat)\n",
    "    met_ratings.append(met_rat)\n",
    "    nvotes.append(nvot)\n",
    "    directors.append(direct)\n",
    "    stars.append(star)\n",
    "    "
   ]
  },
  {
   "cell_type": "code",
   "execution_count": null,
   "metadata": {},
   "outputs": [],
   "source": [
    "df_first_page = pd.DataFrame({\"title\" : titles,\n",
    "             \"year\" : years,\n",
    "             \"duration\" : durations,\n",
    "             \"imbd_rating\" : imbd_ratings,\n",
    "             \"met_rating\": met_ratings,\n",
    "             \"number_votes\" : nvotes,\n",
    "                   \"director\" : directors,\n",
    "                  \"stars\" : stars})"
   ]
  },
  {
   "cell_type": "markdown",
   "metadata": {},
   "source": [
    "## Scraping all pages: automating iteration over several pages from the base URL\n",
    "🇬🇧 One of the first things we need to bear in mind when webscraping multiple pages is the relationship between the several pages we want to scrape. In our case, as Imdb has MANY action movies, these span over many pages, and we want a script which goes over these pages automatically. We check this relationship manually by moving through the pages and taking note of what varies from one to another. As we can see, the urls are pretty much the same, except for the number at the end: as there are 50 movies per page, for every page we move forward, we will need to increase this number by 50. Easy peasy.\n",
    "\n",
    "🇪🇸 Una de las primeras cosas que tenemos que tener en cuenta cuando hacemos web scraping sobre múltiples páginas es la relación entre las distintas páginas que queremos scrapear. En nuestro caso, dado que Imdb tiene MUCHAS pelis de acción, estas se encuentran en multitud de páginas, por lo que queremos un script que las vaya recorriendo de forma automática para ser eficiente. Para sacar esta relación, observamos lo que varía de una página a la siguiente. Como se puede ver, las páginas son casi idénticas salvo por el número del final: como hay 50 pelis por página, por cada página que avanzamos, necesitaremos incrementar este número en 50. Fácil. \n"
   ]
  },
  {
   "cell_type": "code",
   "execution_count": null,
   "metadata": {},
   "outputs": [],
   "source": [
    "# base url from which we gather the data\n",
    "url_1 = \"https://www.imdb.com/search/title/?title_type=feature&genres=action&start=1\"\n",
    "\n",
    "url_2 = \"https://www.imdb.com/search/title/?title_type=feature&genres=action&start=51\"\n",
    "\n",
    "# only change is at the end, 51 instead of 1: for each new page, add 50 to the number at the end\n",
    "\n",
    "for i in range(1,10000,50): # we want to take the first 10 000 movies for starters\n",
    "        url_test = f\"https://www.imdb.com/search/title/?title_type=feature&genres=action&start={i}\"\n",
    "        print(url_test)"
   ]
  },
  {
   "cell_type": "code",
   "execution_count": null,
   "metadata": {},
   "outputs": [],
   "source": []
  },
  {
   "cell_type": "markdown",
   "metadata": {},
   "source": [
    "<span>&#x1f1ec;&#x1f1e7;</span>  After the 10000th movie, the pattern of variation of the pages changes and becomes impossible to trace. Hence, our web scraping can only fetch the information of the first 10 000 movies\n",
    "\n",
    "[Url movies 10 001 - 10 050](https://www.imdb.com/search/title/?title_type=feature&genres=action&after=Wzk4NjEyLCJ0dDAyNTUwOTciLDEwMDAwXQ%3D%3D&ref_=adv_nxt)\n",
    "    \n",
    "[Url movies 10 051 - 11 000](https://www.imdb.com/search/title/?title_type=feature&genres=action&after=Wzk5MjM3LCJ0dDAwMzkxOTMiLDEwMDUwXQ%3D%3D&ref_=adv_nxt)\n",
    "\n",
    "---\n",
    "\n",
    "<span>&#x1f1ea;&#x1f1f8;</span> Tras la película número 10000, el patrón de variación de las páginas diverge y se vuelve imposible de reconocer. Por tanto, nuestro scraping solo puede capturar información para las primeras 10 000 películas\n",
    "\n",
    "[Url movies 10 001 - 10 050](https://www.imdb.com/search/title/?title_type=feature&genres=action&after=Wzk4NjEyLCJ0dDAyNTUwOTciLDEwMDAwXQ%3D%3D&ref_=adv_nxt)\n",
    "    \n",
    "[Url movies 10 051 - 11 000](https://www.imdb.com/search/title/?title_type=feature&genres=action&after=Wzk5MjM3LCJ0dDAwMzkxOTMiLDEwMDUwXQ%3D%3D&ref_=adv_nxt)\n"
   ]
  },
  {
   "cell_type": "markdown",
   "metadata": {},
   "source": [
    "## Scapping all pages: putting all pieces together\n",
    "\n",
    "We know how to scrape and individual page, we know how change the name of a page automatically... Putting these two pieces together is all we need to get our final web scrape. We first do a loop that changes the url to select a new page each time and within this loop and via another loop, we take the information for all the movies in that page.\n",
    "\n",
    "---\n",
    "\n",
    "Ya sabemos scrappear una única página, también sabemos cambiar el nombre de la página de forma automática... Juntar estas dos cosas es todo lo que necesitamos para obtener nuestro scraping final. En un primer loop, vamos cambiando la url para seleccionar una página nueva en cada iteración y dentro de este loop, mediante otro loop, obtenemos la información de las películas.\n",
    "\n"
   ]
  },
  {
   "cell_type": "code",
   "execution_count": 318,
   "metadata": {
    "collapsed": true
   },
   "outputs": [
    {
     "name": "stdout",
     "output_type": "stream",
     "text": [
      "Reading page1. Url is: https://www.imdb.com/search/title/?title_type=feature&genres=action&start=1\n",
      "containers longitud: 50\n",
      "Page 1 read!\n",
      "Reading page2. Url is: https://www.imdb.com/search/title/?title_type=feature&genres=action&start=51\n",
      "containers longitud: 50\n",
      "Page 2 read!\n",
      "Reading page3. Url is: https://www.imdb.com/search/title/?title_type=feature&genres=action&start=101\n",
      "containers longitud: 50\n",
      "Page 3 read!\n",
      "Reading page4. Url is: https://www.imdb.com/search/title/?title_type=feature&genres=action&start=151\n",
      "containers longitud: 50\n",
      "Page 4 read!\n",
      "Reading page5. Url is: https://www.imdb.com/search/title/?title_type=feature&genres=action&start=201\n",
      "containers longitud: 50\n",
      "Page 5 read!\n",
      "Reading page6. Url is: https://www.imdb.com/search/title/?title_type=feature&genres=action&start=251\n",
      "containers longitud: 50\n",
      "Page 6 read!\n",
      "Reading page7. Url is: https://www.imdb.com/search/title/?title_type=feature&genres=action&start=301\n",
      "containers longitud: 50\n",
      "Page 7 read!\n",
      "Reading page8. Url is: https://www.imdb.com/search/title/?title_type=feature&genres=action&start=351\n",
      "containers longitud: 50\n",
      "Page 8 read!\n",
      "Reading page9. Url is: https://www.imdb.com/search/title/?title_type=feature&genres=action&start=401\n",
      "containers longitud: 50\n",
      "Page 9 read!\n",
      "Reading page10. Url is: https://www.imdb.com/search/title/?title_type=feature&genres=action&start=451\n",
      "containers longitud: 50\n",
      "Page 10 read!\n",
      "Reading page11. Url is: https://www.imdb.com/search/title/?title_type=feature&genres=action&start=501\n",
      "containers longitud: 50\n",
      "Page 11 read!\n",
      "Reading page12. Url is: https://www.imdb.com/search/title/?title_type=feature&genres=action&start=551\n",
      "containers longitud: 50\n",
      "Page 12 read!\n",
      "Reading page13. Url is: https://www.imdb.com/search/title/?title_type=feature&genres=action&start=601\n",
      "containers longitud: 50\n",
      "Page 13 read!\n",
      "Reading page14. Url is: https://www.imdb.com/search/title/?title_type=feature&genres=action&start=651\n",
      "containers longitud: 50\n",
      "Page 14 read!\n",
      "Reading page15. Url is: https://www.imdb.com/search/title/?title_type=feature&genres=action&start=701\n",
      "containers longitud: 50\n",
      "Page 15 read!\n",
      "Reading page16. Url is: https://www.imdb.com/search/title/?title_type=feature&genres=action&start=751\n",
      "containers longitud: 50\n",
      "Page 16 read!\n",
      "Reading page17. Url is: https://www.imdb.com/search/title/?title_type=feature&genres=action&start=801\n",
      "containers longitud: 50\n",
      "Page 17 read!\n",
      "Reading page18. Url is: https://www.imdb.com/search/title/?title_type=feature&genres=action&start=851\n",
      "containers longitud: 50\n",
      "Page 18 read!\n",
      "Reading page19. Url is: https://www.imdb.com/search/title/?title_type=feature&genres=action&start=901\n",
      "containers longitud: 50\n",
      "Page 19 read!\n",
      "Reading page20. Url is: https://www.imdb.com/search/title/?title_type=feature&genres=action&start=951\n",
      "containers longitud: 50\n",
      "Page 20 read!\n",
      "Reading page21. Url is: https://www.imdb.com/search/title/?title_type=feature&genres=action&start=1001\n",
      "containers longitud: 50\n",
      "Page 21 read!\n",
      "Reading page22. Url is: https://www.imdb.com/search/title/?title_type=feature&genres=action&start=1051\n",
      "containers longitud: 50\n",
      "Page 22 read!\n",
      "Reading page23. Url is: https://www.imdb.com/search/title/?title_type=feature&genres=action&start=1101\n",
      "containers longitud: 50\n",
      "Page 23 read!\n",
      "Reading page24. Url is: https://www.imdb.com/search/title/?title_type=feature&genres=action&start=1151\n",
      "containers longitud: 50\n",
      "Page 24 read!\n",
      "Reading page25. Url is: https://www.imdb.com/search/title/?title_type=feature&genres=action&start=1201\n",
      "containers longitud: 50\n",
      "Page 25 read!\n",
      "Reading page26. Url is: https://www.imdb.com/search/title/?title_type=feature&genres=action&start=1251\n",
      "containers longitud: 50\n",
      "Page 26 read!\n",
      "Reading page27. Url is: https://www.imdb.com/search/title/?title_type=feature&genres=action&start=1301\n",
      "containers longitud: 50\n",
      "Page 27 read!\n",
      "Reading page28. Url is: https://www.imdb.com/search/title/?title_type=feature&genres=action&start=1351\n",
      "containers longitud: 50\n",
      "Page 28 read!\n",
      "Reading page29. Url is: https://www.imdb.com/search/title/?title_type=feature&genres=action&start=1401\n",
      "containers longitud: 50\n",
      "Page 29 read!\n",
      "Reading page30. Url is: https://www.imdb.com/search/title/?title_type=feature&genres=action&start=1451\n",
      "containers longitud: 50\n",
      "Page 30 read!\n",
      "Reading page31. Url is: https://www.imdb.com/search/title/?title_type=feature&genres=action&start=1501\n",
      "containers longitud: 50\n",
      "Page 31 read!\n",
      "Reading page32. Url is: https://www.imdb.com/search/title/?title_type=feature&genres=action&start=1551\n",
      "containers longitud: 50\n",
      "Page 32 read!\n",
      "Reading page33. Url is: https://www.imdb.com/search/title/?title_type=feature&genres=action&start=1601\n",
      "containers longitud: 50\n",
      "Page 33 read!\n",
      "Reading page34. Url is: https://www.imdb.com/search/title/?title_type=feature&genres=action&start=1651\n",
      "containers longitud: 50\n",
      "Page 34 read!\n",
      "Reading page35. Url is: https://www.imdb.com/search/title/?title_type=feature&genres=action&start=1701\n",
      "containers longitud: 50\n",
      "Page 35 read!\n",
      "Reading page36. Url is: https://www.imdb.com/search/title/?title_type=feature&genres=action&start=1751\n",
      "containers longitud: 50\n",
      "Page 36 read!\n",
      "Reading page37. Url is: https://www.imdb.com/search/title/?title_type=feature&genres=action&start=1801\n",
      "containers longitud: 50\n",
      "Page 37 read!\n",
      "Reading page38. Url is: https://www.imdb.com/search/title/?title_type=feature&genres=action&start=1851\n",
      "containers longitud: 50\n",
      "Page 38 read!\n",
      "Reading page39. Url is: https://www.imdb.com/search/title/?title_type=feature&genres=action&start=1901\n",
      "containers longitud: 50\n",
      "Page 39 read!\n",
      "Reading page40. Url is: https://www.imdb.com/search/title/?title_type=feature&genres=action&start=1951\n",
      "containers longitud: 50\n",
      "Page 40 read!\n",
      "Reading page41. Url is: https://www.imdb.com/search/title/?title_type=feature&genres=action&start=2001\n",
      "containers longitud: 50\n",
      "Page 41 read!\n",
      "Reading page42. Url is: https://www.imdb.com/search/title/?title_type=feature&genres=action&start=2051\n",
      "containers longitud: 50\n",
      "Page 42 read!\n",
      "Reading page43. Url is: https://www.imdb.com/search/title/?title_type=feature&genres=action&start=2101\n",
      "containers longitud: 50\n",
      "Page 43 read!\n",
      "Reading page44. Url is: https://www.imdb.com/search/title/?title_type=feature&genres=action&start=2151\n",
      "containers longitud: 50\n",
      "Page 44 read!\n",
      "Reading page45. Url is: https://www.imdb.com/search/title/?title_type=feature&genres=action&start=2201\n",
      "containers longitud: 50\n",
      "Page 45 read!\n",
      "Reading page46. Url is: https://www.imdb.com/search/title/?title_type=feature&genres=action&start=2251\n",
      "containers longitud: 50\n",
      "Page 46 read!\n",
      "Reading page47. Url is: https://www.imdb.com/search/title/?title_type=feature&genres=action&start=2301\n",
      "containers longitud: 50\n",
      "Page 47 read!\n",
      "Reading page48. Url is: https://www.imdb.com/search/title/?title_type=feature&genres=action&start=2351\n",
      "containers longitud: 50\n",
      "Page 48 read!\n",
      "Reading page49. Url is: https://www.imdb.com/search/title/?title_type=feature&genres=action&start=2401\n",
      "containers longitud: 50\n",
      "Page 49 read!\n",
      "Reading page50. Url is: https://www.imdb.com/search/title/?title_type=feature&genres=action&start=2451\n",
      "containers longitud: 50\n",
      "Page 50 read!\n",
      "Reading page51. Url is: https://www.imdb.com/search/title/?title_type=feature&genres=action&start=2501\n",
      "containers longitud: 50\n",
      "Page 51 read!\n",
      "Reading page52. Url is: https://www.imdb.com/search/title/?title_type=feature&genres=action&start=2551\n",
      "containers longitud: 50\n",
      "Page 52 read!\n",
      "Reading page53. Url is: https://www.imdb.com/search/title/?title_type=feature&genres=action&start=2601\n",
      "containers longitud: 50\n",
      "Page 53 read!\n",
      "Reading page54. Url is: https://www.imdb.com/search/title/?title_type=feature&genres=action&start=2651\n",
      "containers longitud: 50\n",
      "Page 54 read!\n",
      "Reading page55. Url is: https://www.imdb.com/search/title/?title_type=feature&genres=action&start=2701\n",
      "containers longitud: 50\n",
      "Page 55 read!\n",
      "Reading page56. Url is: https://www.imdb.com/search/title/?title_type=feature&genres=action&start=2751\n",
      "containers longitud: 50\n",
      "Page 56 read!\n",
      "Reading page57. Url is: https://www.imdb.com/search/title/?title_type=feature&genres=action&start=2801\n",
      "containers longitud: 50\n",
      "Page 57 read!\n",
      "Reading page58. Url is: https://www.imdb.com/search/title/?title_type=feature&genres=action&start=2851\n",
      "containers longitud: 50\n",
      "Page 58 read!\n",
      "Reading page59. Url is: https://www.imdb.com/search/title/?title_type=feature&genres=action&start=2901\n"
     ]
    },
    {
     "name": "stdout",
     "output_type": "stream",
     "text": [
      "containers longitud: 50\n",
      "Page 59 read!\n",
      "Reading page60. Url is: https://www.imdb.com/search/title/?title_type=feature&genres=action&start=2951\n",
      "containers longitud: 50\n",
      "Page 60 read!\n",
      "Reading page61. Url is: https://www.imdb.com/search/title/?title_type=feature&genres=action&start=3001\n",
      "containers longitud: 50\n",
      "Page 61 read!\n",
      "Reading page62. Url is: https://www.imdb.com/search/title/?title_type=feature&genres=action&start=3051\n",
      "containers longitud: 50\n",
      "Page 62 read!\n",
      "Reading page63. Url is: https://www.imdb.com/search/title/?title_type=feature&genres=action&start=3101\n",
      "containers longitud: 50\n",
      "Page 63 read!\n",
      "Reading page64. Url is: https://www.imdb.com/search/title/?title_type=feature&genres=action&start=3151\n",
      "containers longitud: 50\n",
      "Page 64 read!\n",
      "Reading page65. Url is: https://www.imdb.com/search/title/?title_type=feature&genres=action&start=3201\n",
      "containers longitud: 50\n",
      "Page 65 read!\n",
      "Reading page66. Url is: https://www.imdb.com/search/title/?title_type=feature&genres=action&start=3251\n",
      "containers longitud: 50\n",
      "Page 66 read!\n",
      "Reading page67. Url is: https://www.imdb.com/search/title/?title_type=feature&genres=action&start=3301\n",
      "containers longitud: 50\n",
      "Page 67 read!\n",
      "Reading page68. Url is: https://www.imdb.com/search/title/?title_type=feature&genres=action&start=3351\n",
      "containers longitud: 50\n",
      "Page 68 read!\n",
      "Reading page69. Url is: https://www.imdb.com/search/title/?title_type=feature&genres=action&start=3401\n",
      "containers longitud: 50\n",
      "Page 69 read!\n",
      "Reading page70. Url is: https://www.imdb.com/search/title/?title_type=feature&genres=action&start=3451\n",
      "containers longitud: 50\n",
      "Page 70 read!\n",
      "Reading page71. Url is: https://www.imdb.com/search/title/?title_type=feature&genres=action&start=3501\n",
      "containers longitud: 50\n",
      "Page 71 read!\n",
      "Reading page72. Url is: https://www.imdb.com/search/title/?title_type=feature&genres=action&start=3551\n",
      "containers longitud: 50\n",
      "Page 72 read!\n",
      "Reading page73. Url is: https://www.imdb.com/search/title/?title_type=feature&genres=action&start=3601\n",
      "containers longitud: 50\n",
      "Page 73 read!\n",
      "Reading page74. Url is: https://www.imdb.com/search/title/?title_type=feature&genres=action&start=3651\n",
      "containers longitud: 50\n",
      "Page 74 read!\n",
      "Reading page75. Url is: https://www.imdb.com/search/title/?title_type=feature&genres=action&start=3701\n",
      "containers longitud: 50\n",
      "Page 75 read!\n",
      "Reading page76. Url is: https://www.imdb.com/search/title/?title_type=feature&genres=action&start=3751\n",
      "containers longitud: 50\n",
      "Page 76 read!\n",
      "Reading page77. Url is: https://www.imdb.com/search/title/?title_type=feature&genres=action&start=3801\n",
      "containers longitud: 50\n",
      "Page 77 read!\n",
      "Reading page78. Url is: https://www.imdb.com/search/title/?title_type=feature&genres=action&start=3851\n",
      "containers longitud: 50\n",
      "Page 78 read!\n",
      "Reading page79. Url is: https://www.imdb.com/search/title/?title_type=feature&genres=action&start=3901\n",
      "containers longitud: 50\n",
      "Page 79 read!\n",
      "Reading page80. Url is: https://www.imdb.com/search/title/?title_type=feature&genres=action&start=3951\n",
      "containers longitud: 50\n",
      "Page 80 read!\n",
      "Reading page81. Url is: https://www.imdb.com/search/title/?title_type=feature&genres=action&start=4001\n",
      "containers longitud: 50\n",
      "Page 81 read!\n",
      "Reading page82. Url is: https://www.imdb.com/search/title/?title_type=feature&genres=action&start=4051\n",
      "containers longitud: 50\n",
      "Page 82 read!\n",
      "Reading page83. Url is: https://www.imdb.com/search/title/?title_type=feature&genres=action&start=4101\n",
      "containers longitud: 50\n",
      "Page 83 read!\n",
      "Reading page84. Url is: https://www.imdb.com/search/title/?title_type=feature&genres=action&start=4151\n",
      "containers longitud: 50\n",
      "Page 84 read!\n",
      "Reading page85. Url is: https://www.imdb.com/search/title/?title_type=feature&genres=action&start=4201\n",
      "containers longitud: 50\n",
      "Page 85 read!\n",
      "Reading page86. Url is: https://www.imdb.com/search/title/?title_type=feature&genres=action&start=4251\n",
      "containers longitud: 50\n",
      "Page 86 read!\n",
      "Reading page87. Url is: https://www.imdb.com/search/title/?title_type=feature&genres=action&start=4301\n",
      "containers longitud: 50\n",
      "Page 87 read!\n",
      "Reading page88. Url is: https://www.imdb.com/search/title/?title_type=feature&genres=action&start=4351\n",
      "containers longitud: 50\n",
      "Page 88 read!\n",
      "Reading page89. Url is: https://www.imdb.com/search/title/?title_type=feature&genres=action&start=4401\n",
      "containers longitud: 50\n",
      "Page 89 read!\n",
      "Reading page90. Url is: https://www.imdb.com/search/title/?title_type=feature&genres=action&start=4451\n",
      "containers longitud: 50\n",
      "Page 90 read!\n",
      "Reading page91. Url is: https://www.imdb.com/search/title/?title_type=feature&genres=action&start=4501\n",
      "containers longitud: 50\n",
      "Page 91 read!\n",
      "Reading page92. Url is: https://www.imdb.com/search/title/?title_type=feature&genres=action&start=4551\n",
      "containers longitud: 50\n",
      "Page 92 read!\n",
      "Reading page93. Url is: https://www.imdb.com/search/title/?title_type=feature&genres=action&start=4601\n",
      "containers longitud: 50\n",
      "Page 93 read!\n",
      "Reading page94. Url is: https://www.imdb.com/search/title/?title_type=feature&genres=action&start=4651\n",
      "containers longitud: 50\n",
      "Page 94 read!\n",
      "Reading page95. Url is: https://www.imdb.com/search/title/?title_type=feature&genres=action&start=4701\n",
      "containers longitud: 50\n",
      "Page 95 read!\n",
      "Reading page96. Url is: https://www.imdb.com/search/title/?title_type=feature&genres=action&start=4751\n",
      "containers longitud: 50\n",
      "Page 96 read!\n",
      "Reading page97. Url is: https://www.imdb.com/search/title/?title_type=feature&genres=action&start=4801\n",
      "containers longitud: 50\n",
      "Page 97 read!\n",
      "Reading page98. Url is: https://www.imdb.com/search/title/?title_type=feature&genres=action&start=4851\n",
      "containers longitud: 50\n",
      "Page 98 read!\n",
      "Reading page99. Url is: https://www.imdb.com/search/title/?title_type=feature&genres=action&start=4901\n",
      "containers longitud: 50\n",
      "Page 99 read!\n",
      "Reading page100. Url is: https://www.imdb.com/search/title/?title_type=feature&genres=action&start=4951\n",
      "containers longitud: 50\n",
      "Page 100 read!\n",
      "Reading page101. Url is: https://www.imdb.com/search/title/?title_type=feature&genres=action&start=5001\n",
      "containers longitud: 50\n",
      "Page 101 read!\n",
      "Reading page102. Url is: https://www.imdb.com/search/title/?title_type=feature&genres=action&start=5051\n",
      "containers longitud: 50\n",
      "Page 102 read!\n",
      "Reading page103. Url is: https://www.imdb.com/search/title/?title_type=feature&genres=action&start=5101\n",
      "containers longitud: 50\n",
      "Page 103 read!\n",
      "Reading page104. Url is: https://www.imdb.com/search/title/?title_type=feature&genres=action&start=5151\n",
      "containers longitud: 50\n",
      "Page 104 read!\n",
      "Reading page105. Url is: https://www.imdb.com/search/title/?title_type=feature&genres=action&start=5201\n",
      "containers longitud: 50\n",
      "Page 105 read!\n",
      "Reading page106. Url is: https://www.imdb.com/search/title/?title_type=feature&genres=action&start=5251\n",
      "containers longitud: 50\n",
      "Page 106 read!\n",
      "Reading page107. Url is: https://www.imdb.com/search/title/?title_type=feature&genres=action&start=5301\n",
      "containers longitud: 50\n",
      "Page 107 read!\n",
      "Reading page108. Url is: https://www.imdb.com/search/title/?title_type=feature&genres=action&start=5351\n",
      "containers longitud: 50\n",
      "Page 108 read!\n",
      "Reading page109. Url is: https://www.imdb.com/search/title/?title_type=feature&genres=action&start=5401\n",
      "containers longitud: 50\n",
      "Page 109 read!\n",
      "Reading page110. Url is: https://www.imdb.com/search/title/?title_type=feature&genres=action&start=5451\n",
      "containers longitud: 50\n",
      "Page 110 read!\n",
      "Reading page111. Url is: https://www.imdb.com/search/title/?title_type=feature&genres=action&start=5501\n",
      "containers longitud: 50\n",
      "Page 111 read!\n",
      "Reading page112. Url is: https://www.imdb.com/search/title/?title_type=feature&genres=action&start=5551\n",
      "containers longitud: 50\n",
      "Page 112 read!\n",
      "Reading page113. Url is: https://www.imdb.com/search/title/?title_type=feature&genres=action&start=5601\n",
      "containers longitud: 50\n",
      "Page 113 read!\n",
      "Reading page114. Url is: https://www.imdb.com/search/title/?title_type=feature&genres=action&start=5651\n",
      "containers longitud: 50\n",
      "Page 114 read!\n",
      "Reading page115. Url is: https://www.imdb.com/search/title/?title_type=feature&genres=action&start=5701\n",
      "containers longitud: 50\n",
      "Page 115 read!\n",
      "Reading page116. Url is: https://www.imdb.com/search/title/?title_type=feature&genres=action&start=5751\n",
      "containers longitud: 50\n",
      "Page 116 read!\n",
      "Reading page117. Url is: https://www.imdb.com/search/title/?title_type=feature&genres=action&start=5801\n"
     ]
    },
    {
     "name": "stdout",
     "output_type": "stream",
     "text": [
      "containers longitud: 50\n",
      "Page 117 read!\n",
      "Reading page118. Url is: https://www.imdb.com/search/title/?title_type=feature&genres=action&start=5851\n",
      "containers longitud: 50\n",
      "Page 118 read!\n",
      "Reading page119. Url is: https://www.imdb.com/search/title/?title_type=feature&genres=action&start=5901\n",
      "containers longitud: 50\n",
      "Page 119 read!\n",
      "Reading page120. Url is: https://www.imdb.com/search/title/?title_type=feature&genres=action&start=5951\n",
      "containers longitud: 50\n",
      "Page 120 read!\n",
      "Reading page121. Url is: https://www.imdb.com/search/title/?title_type=feature&genres=action&start=6001\n",
      "containers longitud: 50\n",
      "Page 121 read!\n",
      "Reading page122. Url is: https://www.imdb.com/search/title/?title_type=feature&genres=action&start=6051\n",
      "containers longitud: 50\n",
      "Page 122 read!\n",
      "Reading page123. Url is: https://www.imdb.com/search/title/?title_type=feature&genres=action&start=6101\n",
      "containers longitud: 50\n",
      "Page 123 read!\n",
      "Reading page124. Url is: https://www.imdb.com/search/title/?title_type=feature&genres=action&start=6151\n",
      "containers longitud: 50\n",
      "Page 124 read!\n",
      "Reading page125. Url is: https://www.imdb.com/search/title/?title_type=feature&genres=action&start=6201\n",
      "containers longitud: 50\n",
      "Page 125 read!\n",
      "Reading page126. Url is: https://www.imdb.com/search/title/?title_type=feature&genres=action&start=6251\n",
      "containers longitud: 50\n",
      "Page 126 read!\n",
      "Reading page127. Url is: https://www.imdb.com/search/title/?title_type=feature&genres=action&start=6301\n",
      "containers longitud: 50\n",
      "Page 127 read!\n",
      "Reading page128. Url is: https://www.imdb.com/search/title/?title_type=feature&genres=action&start=6351\n",
      "containers longitud: 50\n",
      "Page 128 read!\n",
      "Reading page129. Url is: https://www.imdb.com/search/title/?title_type=feature&genres=action&start=6401\n",
      "containers longitud: 50\n",
      "Page 129 read!\n",
      "Reading page130. Url is: https://www.imdb.com/search/title/?title_type=feature&genres=action&start=6451\n",
      "containers longitud: 50\n",
      "Page 130 read!\n",
      "Reading page131. Url is: https://www.imdb.com/search/title/?title_type=feature&genres=action&start=6501\n",
      "containers longitud: 50\n",
      "Page 131 read!\n",
      "Reading page132. Url is: https://www.imdb.com/search/title/?title_type=feature&genres=action&start=6551\n",
      "containers longitud: 50\n",
      "Page 132 read!\n",
      "Reading page133. Url is: https://www.imdb.com/search/title/?title_type=feature&genres=action&start=6601\n",
      "containers longitud: 50\n",
      "Page 133 read!\n",
      "Reading page134. Url is: https://www.imdb.com/search/title/?title_type=feature&genres=action&start=6651\n",
      "containers longitud: 50\n",
      "Page 134 read!\n",
      "Reading page135. Url is: https://www.imdb.com/search/title/?title_type=feature&genres=action&start=6701\n",
      "containers longitud: 50\n",
      "Page 135 read!\n",
      "Reading page136. Url is: https://www.imdb.com/search/title/?title_type=feature&genres=action&start=6751\n",
      "containers longitud: 50\n",
      "Page 136 read!\n",
      "Reading page137. Url is: https://www.imdb.com/search/title/?title_type=feature&genres=action&start=6801\n",
      "containers longitud: 50\n",
      "Page 137 read!\n",
      "Reading page138. Url is: https://www.imdb.com/search/title/?title_type=feature&genres=action&start=6851\n",
      "containers longitud: 50\n",
      "Page 138 read!\n",
      "Reading page139. Url is: https://www.imdb.com/search/title/?title_type=feature&genres=action&start=6901\n",
      "containers longitud: 50\n",
      "Page 139 read!\n",
      "Reading page140. Url is: https://www.imdb.com/search/title/?title_type=feature&genres=action&start=6951\n",
      "containers longitud: 50\n",
      "Page 140 read!\n",
      "Reading page141. Url is: https://www.imdb.com/search/title/?title_type=feature&genres=action&start=7001\n",
      "containers longitud: 50\n",
      "Page 141 read!\n",
      "Reading page142. Url is: https://www.imdb.com/search/title/?title_type=feature&genres=action&start=7051\n",
      "containers longitud: 50\n",
      "Page 142 read!\n",
      "Reading page143. Url is: https://www.imdb.com/search/title/?title_type=feature&genres=action&start=7101\n",
      "containers longitud: 50\n",
      "Page 143 read!\n",
      "Reading page144. Url is: https://www.imdb.com/search/title/?title_type=feature&genres=action&start=7151\n",
      "containers longitud: 50\n",
      "Page 144 read!\n",
      "Reading page145. Url is: https://www.imdb.com/search/title/?title_type=feature&genres=action&start=7201\n",
      "containers longitud: 50\n",
      "Page 145 read!\n",
      "Reading page146. Url is: https://www.imdb.com/search/title/?title_type=feature&genres=action&start=7251\n",
      "containers longitud: 50\n",
      "Page 146 read!\n",
      "Reading page147. Url is: https://www.imdb.com/search/title/?title_type=feature&genres=action&start=7301\n",
      "containers longitud: 50\n",
      "Page 147 read!\n",
      "Reading page148. Url is: https://www.imdb.com/search/title/?title_type=feature&genres=action&start=7351\n",
      "containers longitud: 50\n",
      "Page 148 read!\n",
      "Reading page149. Url is: https://www.imdb.com/search/title/?title_type=feature&genres=action&start=7401\n",
      "containers longitud: 50\n",
      "Page 149 read!\n",
      "Reading page150. Url is: https://www.imdb.com/search/title/?title_type=feature&genres=action&start=7451\n",
      "containers longitud: 50\n",
      "Page 150 read!\n",
      "Reading page151. Url is: https://www.imdb.com/search/title/?title_type=feature&genres=action&start=7501\n",
      "containers longitud: 50\n",
      "Page 151 read!\n",
      "Reading page152. Url is: https://www.imdb.com/search/title/?title_type=feature&genres=action&start=7551\n",
      "containers longitud: 50\n",
      "Page 152 read!\n",
      "Reading page153. Url is: https://www.imdb.com/search/title/?title_type=feature&genres=action&start=7601\n",
      "containers longitud: 50\n",
      "Page 153 read!\n",
      "Reading page154. Url is: https://www.imdb.com/search/title/?title_type=feature&genres=action&start=7651\n",
      "containers longitud: 50\n",
      "Page 154 read!\n",
      "Reading page155. Url is: https://www.imdb.com/search/title/?title_type=feature&genres=action&start=7701\n",
      "containers longitud: 50\n",
      "Page 155 read!\n",
      "Reading page156. Url is: https://www.imdb.com/search/title/?title_type=feature&genres=action&start=7751\n",
      "containers longitud: 50\n",
      "Page 156 read!\n",
      "Reading page157. Url is: https://www.imdb.com/search/title/?title_type=feature&genres=action&start=7801\n",
      "containers longitud: 50\n",
      "Page 157 read!\n",
      "Reading page158. Url is: https://www.imdb.com/search/title/?title_type=feature&genres=action&start=7851\n",
      "containers longitud: 50\n",
      "Page 158 read!\n",
      "Reading page159. Url is: https://www.imdb.com/search/title/?title_type=feature&genres=action&start=7901\n",
      "containers longitud: 50\n",
      "Page 159 read!\n",
      "Reading page160. Url is: https://www.imdb.com/search/title/?title_type=feature&genres=action&start=7951\n",
      "containers longitud: 50\n",
      "Page 160 read!\n",
      "Reading page161. Url is: https://www.imdb.com/search/title/?title_type=feature&genres=action&start=8001\n",
      "containers longitud: 50\n",
      "Page 161 read!\n",
      "Reading page162. Url is: https://www.imdb.com/search/title/?title_type=feature&genres=action&start=8051\n",
      "containers longitud: 50\n",
      "Page 162 read!\n",
      "Reading page163. Url is: https://www.imdb.com/search/title/?title_type=feature&genres=action&start=8101\n",
      "containers longitud: 50\n",
      "Page 163 read!\n",
      "Reading page164. Url is: https://www.imdb.com/search/title/?title_type=feature&genres=action&start=8151\n",
      "containers longitud: 50\n",
      "Page 164 read!\n",
      "Reading page165. Url is: https://www.imdb.com/search/title/?title_type=feature&genres=action&start=8201\n",
      "containers longitud: 50\n",
      "Page 165 read!\n",
      "Reading page166. Url is: https://www.imdb.com/search/title/?title_type=feature&genres=action&start=8251\n",
      "containers longitud: 50\n",
      "Page 166 read!\n",
      "Reading page167. Url is: https://www.imdb.com/search/title/?title_type=feature&genres=action&start=8301\n",
      "containers longitud: 50\n",
      "Page 167 read!\n",
      "Reading page168. Url is: https://www.imdb.com/search/title/?title_type=feature&genres=action&start=8351\n",
      "containers longitud: 50\n",
      "Page 168 read!\n",
      "Reading page169. Url is: https://www.imdb.com/search/title/?title_type=feature&genres=action&start=8401\n",
      "containers longitud: 50\n",
      "Page 169 read!\n",
      "Reading page170. Url is: https://www.imdb.com/search/title/?title_type=feature&genres=action&start=8451\n",
      "containers longitud: 50\n",
      "Page 170 read!\n",
      "Reading page171. Url is: https://www.imdb.com/search/title/?title_type=feature&genres=action&start=8501\n",
      "containers longitud: 50\n",
      "Page 171 read!\n",
      "Reading page172. Url is: https://www.imdb.com/search/title/?title_type=feature&genres=action&start=8551\n",
      "containers longitud: 50\n",
      "Page 172 read!\n",
      "Reading page173. Url is: https://www.imdb.com/search/title/?title_type=feature&genres=action&start=8601\n",
      "containers longitud: 50\n",
      "Page 173 read!\n",
      "Reading page174. Url is: https://www.imdb.com/search/title/?title_type=feature&genres=action&start=8651\n",
      "containers longitud: 50\n",
      "Page 174 read!\n",
      "Reading page175. Url is: https://www.imdb.com/search/title/?title_type=feature&genres=action&start=8701\n"
     ]
    },
    {
     "name": "stdout",
     "output_type": "stream",
     "text": [
      "containers longitud: 50\n",
      "Page 175 read!\n",
      "Reading page176. Url is: https://www.imdb.com/search/title/?title_type=feature&genres=action&start=8751\n",
      "containers longitud: 50\n",
      "Page 176 read!\n",
      "Reading page177. Url is: https://www.imdb.com/search/title/?title_type=feature&genres=action&start=8801\n",
      "containers longitud: 50\n",
      "Page 177 read!\n",
      "Reading page178. Url is: https://www.imdb.com/search/title/?title_type=feature&genres=action&start=8851\n",
      "containers longitud: 50\n",
      "Page 178 read!\n",
      "Reading page179. Url is: https://www.imdb.com/search/title/?title_type=feature&genres=action&start=8901\n",
      "containers longitud: 50\n",
      "Page 179 read!\n",
      "Reading page180. Url is: https://www.imdb.com/search/title/?title_type=feature&genres=action&start=8951\n",
      "containers longitud: 50\n",
      "Page 180 read!\n",
      "Reading page181. Url is: https://www.imdb.com/search/title/?title_type=feature&genres=action&start=9001\n",
      "containers longitud: 50\n",
      "Page 181 read!\n",
      "Reading page182. Url is: https://www.imdb.com/search/title/?title_type=feature&genres=action&start=9051\n",
      "containers longitud: 50\n",
      "Page 182 read!\n",
      "Reading page183. Url is: https://www.imdb.com/search/title/?title_type=feature&genres=action&start=9101\n",
      "containers longitud: 50\n",
      "Page 183 read!\n",
      "Reading page184. Url is: https://www.imdb.com/search/title/?title_type=feature&genres=action&start=9151\n",
      "containers longitud: 50\n",
      "Page 184 read!\n",
      "Reading page185. Url is: https://www.imdb.com/search/title/?title_type=feature&genres=action&start=9201\n",
      "containers longitud: 50\n",
      "Page 185 read!\n",
      "Reading page186. Url is: https://www.imdb.com/search/title/?title_type=feature&genres=action&start=9251\n",
      "containers longitud: 50\n",
      "Page 186 read!\n",
      "Reading page187. Url is: https://www.imdb.com/search/title/?title_type=feature&genres=action&start=9301\n",
      "containers longitud: 50\n",
      "Page 187 read!\n",
      "Reading page188. Url is: https://www.imdb.com/search/title/?title_type=feature&genres=action&start=9351\n",
      "containers longitud: 50\n",
      "Page 188 read!\n",
      "Reading page189. Url is: https://www.imdb.com/search/title/?title_type=feature&genres=action&start=9401\n",
      "containers longitud: 50\n",
      "Page 189 read!\n",
      "Reading page190. Url is: https://www.imdb.com/search/title/?title_type=feature&genres=action&start=9451\n",
      "containers longitud: 50\n",
      "Page 190 read!\n",
      "Reading page191. Url is: https://www.imdb.com/search/title/?title_type=feature&genres=action&start=9501\n",
      "containers longitud: 50\n",
      "Page 191 read!\n",
      "Reading page192. Url is: https://www.imdb.com/search/title/?title_type=feature&genres=action&start=9551\n",
      "containers longitud: 50\n",
      "Page 192 read!\n",
      "Reading page193. Url is: https://www.imdb.com/search/title/?title_type=feature&genres=action&start=9601\n",
      "containers longitud: 50\n",
      "Page 193 read!\n",
      "Reading page194. Url is: https://www.imdb.com/search/title/?title_type=feature&genres=action&start=9651\n",
      "containers longitud: 50\n",
      "Page 194 read!\n",
      "Reading page195. Url is: https://www.imdb.com/search/title/?title_type=feature&genres=action&start=9701\n",
      "containers longitud: 50\n",
      "Page 195 read!\n",
      "Reading page196. Url is: https://www.imdb.com/search/title/?title_type=feature&genres=action&start=9751\n",
      "containers longitud: 50\n",
      "Page 196 read!\n",
      "Reading page197. Url is: https://www.imdb.com/search/title/?title_type=feature&genres=action&start=9801\n",
      "containers longitud: 50\n",
      "Page 197 read!\n",
      "Reading page198. Url is: https://www.imdb.com/search/title/?title_type=feature&genres=action&start=9851\n",
      "containers longitud: 50\n",
      "Page 198 read!\n",
      "Reading page199. Url is: https://www.imdb.com/search/title/?title_type=feature&genres=action&start=9901\n",
      "containers longitud: 50\n",
      "Page 199 read!\n",
      "Reading page200. Url is: https://www.imdb.com/search/title/?title_type=feature&genres=action&start=9951\n",
      "containers longitud: 50\n",
      "Page 200 read!\n"
     ]
    }
   ],
   "source": [
    "# empty lists where we stored the information for each item\n",
    "titles = []\n",
    "years = []\n",
    "durations = []\n",
    "imbd_ratings = []\n",
    "met_ratings = []\n",
    "nvotes = []\n",
    "directors = []\n",
    "stars = []\n",
    "\n",
    "contador = 0\n",
    "\n",
    "\n",
    "for i in range(1,10000,50):\n",
    "    \n",
    "    contador = contador + 1\n",
    "    \n",
    "    url = f\"https://www.imdb.com/search/title/?title_type=feature&genres=action&start={i}\"\n",
    "    print(f\"Reading page{contador}. Url is:\" , url)\n",
    "\n",
    "    uClient = uReq(url) # grab page\n",
    "    page_html = uClient.read() # read page\n",
    "    uClient.close() # close the client\n",
    "\n",
    "    page_soup = soup(page_html, \"html.parser\") #Parse html with beautiful soup\n",
    "\n",
    "    containers = page_soup.findAll(\"div\", {\"class\" : \"lister-item mode-advanced\"})\n",
    "    \n",
    "    print(\"containers longitud:\", len(containers))\n",
    "\n",
    "\n",
    "    for cont in containers:\n",
    "\n",
    "        # titulo\n",
    "        tit = cont.img[\"alt\"]\n",
    "\n",
    "        # year\n",
    "        yr = cont.findAll(\"span\", {\"class\" : \"lister-item-year text-muted unbold\"})[0].text\n",
    "\n",
    "        # duration\n",
    "        if len(cont.findAll(\"span\", {\"class\" : \"runtime\"})) > 0:\n",
    "            dur = cont.findAll(\"span\", {\"class\" : \"runtime\"})[0].text\n",
    "        else:\n",
    "            dur = np.nan\n",
    "\n",
    "        # imbd rating: careful, not all movies have it\n",
    "        if len(cont.findAll(\"div\", {\"class\" : \"inline-block ratings-imdb-rating\"})) > 0:\n",
    "            imbd_rat = cont.findAll(\"div\", {\"class\" : \"inline-block ratings-imdb-rating\"})[0].text\n",
    "        else:\n",
    "            imbd_rat = np.nan\n",
    "\n",
    "        # metascore\n",
    "        if len(cont.findAll(\"div\", {\"class\" : \"inline-block ratings-metascore\"})) > 0:\n",
    "            met_rat = cont.findAll(\"div\", {\"class\" : \"inline-block ratings-metascore\"})[0].text\n",
    "        else:\n",
    "            met_rat = np.nan\n",
    "\n",
    "        # director\n",
    "        if \"Director\" in str(cont.findAll(\"p\", {\"class\" : \"\"})[0]) and len(cont.findAll(\"p\", {\"class\" : \"\"})) > 0:\n",
    "            direct = cont.findAll(\"p\", {\"class\" : \"\"})[0].text.split(\"|\")[0].replace(\"\\n\", \"\").split(\":\")[1]\n",
    "        else:\n",
    "            direct = np.nan\n",
    "\n",
    "        # stars\n",
    "        if \"Stars\" in str(cont.findAll(\"p\", {\"class\" : \"\"})[0]) and len(cont.findAll(\"p\", {\"class\" : \"\"})) > 0:\n",
    "            star = cont.findAll(\"p\", {\"class\" : \"\"})[0].text.split(\"Stars:\")[1].replace(\"\\n\", \"\").split(\",\")\n",
    "        else:\n",
    "            star = np.nan\n",
    "\n",
    "        # n votes\n",
    "        if len(cont.findAll(\"span\", {\"name\" : \"nv\"})) > 0:\n",
    "            nvot = cont.findAll(\"span\", {\"name\" : \"nv\"})[0].text\n",
    "        else:\n",
    "            nvot = np.nan\n",
    "\n",
    "        # append to lists\n",
    "\n",
    "        titles.append(tit)\n",
    "        years.append(yr)\n",
    "        durations.append(dur)\n",
    "        imbd_ratings.append(imbd_rat)\n",
    "        met_ratings.append(met_rat)\n",
    "        nvotes.append(nvot)\n",
    "        directors.append(direct)\n",
    "        stars.append(star)\n",
    "\n",
    "    print(f\"Page {contador} read!\")  \n",
    "    sleep(randint(5,10))\n"
   ]
  },
  {
   "cell_type": "markdown",
   "metadata": {},
   "source": [
    "## Result...\n",
    "\n",
    "<span>&#x1f1ec;&#x1f1e7;</span>  We turn the lists that contain the information for our movies in order into the columns of a dataframe...\n",
    "\n",
    "---\n",
    "\n",
    "<span>&#x1f1ea;&#x1f1f8;</span> Convertimos las listas que contienen la información de nuestras películas en orden en las columnas de un dataframe..."
   ]
  },
  {
   "cell_type": "code",
   "execution_count": 420,
   "metadata": {},
   "outputs": [],
   "source": [
    "df_orig = pd.DataFrame({\"title\" : titles,\n",
    "             \"year\" : years,\n",
    "             \"duration\" : durations,\n",
    "             \"imbd_rating\" : imbd_ratings,\n",
    "             \"met_rating\": met_ratings,\n",
    "             \"number_votes\" : nvotes,\n",
    "                   \"director\" : directors,\n",
    "                  \"stars\" : stars})"
   ]
  },
  {
   "cell_type": "code",
   "execution_count": 484,
   "metadata": {},
   "outputs": [
    {
     "data": {
      "text/html": [
       "<div>\n",
       "<style scoped>\n",
       "    .dataframe tbody tr th:only-of-type {\n",
       "        vertical-align: middle;\n",
       "    }\n",
       "\n",
       "    .dataframe tbody tr th {\n",
       "        vertical-align: top;\n",
       "    }\n",
       "\n",
       "    .dataframe thead th {\n",
       "        text-align: right;\n",
       "    }\n",
       "</style>\n",
       "<table border=\"1\" class=\"dataframe\">\n",
       "  <thead>\n",
       "    <tr style=\"text-align: right;\">\n",
       "      <th></th>\n",
       "      <th>title</th>\n",
       "      <th>year</th>\n",
       "      <th>duration</th>\n",
       "      <th>imbd_rating</th>\n",
       "      <th>met_rating</th>\n",
       "      <th>number_votes</th>\n",
       "      <th>director</th>\n",
       "      <th>stars</th>\n",
       "    </tr>\n",
       "  </thead>\n",
       "  <tbody>\n",
       "    <tr>\n",
       "      <th>0</th>\n",
       "      <td>A descubierto</td>\n",
       "      <td>(2021)</td>\n",
       "      <td>114 min</td>\n",
       "      <td>\\n\\n5.3\\n</td>\n",
       "      <td>\\n45        \\n        Metascore\\n</td>\n",
       "      <td>21,416</td>\n",
       "      <td>Mikael Håfström</td>\n",
       "      <td>[Anthony Mackie,  Damson Idris,  Enzo Cilenti,...</td>\n",
       "    </tr>\n",
       "    <tr>\n",
       "      <th>1</th>\n",
       "      <td>Noticias del gran mundo</td>\n",
       "      <td>(2020)</td>\n",
       "      <td>118 min</td>\n",
       "      <td>\\n\\n6.9\\n</td>\n",
       "      <td>\\n73        \\n        Metascore\\n</td>\n",
       "      <td>10,583</td>\n",
       "      <td>Paul Greengrass</td>\n",
       "      <td>[Tom Hanks,  Helena Zengel,  Tom Astor,  Travi...</td>\n",
       "    </tr>\n",
       "    <tr>\n",
       "      <th>2</th>\n",
       "      <td>Wonder Woman 1984</td>\n",
       "      <td>(2020)</td>\n",
       "      <td>151 min</td>\n",
       "      <td>\\n\\n5.4\\n</td>\n",
       "      <td>\\n60        \\n        Metascore\\n</td>\n",
       "      <td>144,978</td>\n",
       "      <td>Patty Jenkins</td>\n",
       "      <td>[Gal Gadot,  Chris Pine,  Kristen Wiig,  Pedro...</td>\n",
       "    </tr>\n",
       "    <tr>\n",
       "      <th>3</th>\n",
       "      <td>Mortal Kombat</td>\n",
       "      <td>(2021)</td>\n",
       "      <td>NaN</td>\n",
       "      <td>NaN</td>\n",
       "      <td>NaN</td>\n",
       "      <td>NaN</td>\n",
       "      <td>Simon McQuoid</td>\n",
       "      <td>[Jessica McNamee,  Hiroyuki Sanada,  Josh Laws...</td>\n",
       "    </tr>\n",
       "    <tr>\n",
       "      <th>4</th>\n",
       "      <td>Tenet</td>\n",
       "      <td>(2020)</td>\n",
       "      <td>150 min</td>\n",
       "      <td>\\n\\n7.5\\n</td>\n",
       "      <td>\\n69        \\n        Metascore\\n</td>\n",
       "      <td>279,317</td>\n",
       "      <td>Christopher Nolan</td>\n",
       "      <td>[John David Washington,  Robert Pattinson,  El...</td>\n",
       "    </tr>\n",
       "    <tr>\n",
       "      <th>...</th>\n",
       "      <td>...</td>\n",
       "      <td>...</td>\n",
       "      <td>...</td>\n",
       "      <td>...</td>\n",
       "      <td>...</td>\n",
       "      <td>...</td>\n",
       "      <td>...</td>\n",
       "      <td>...</td>\n",
       "    </tr>\n",
       "    <tr>\n",
       "      <th>9995</th>\n",
       "      <td>Tarzan the Tiger</td>\n",
       "      <td>(1929)</td>\n",
       "      <td>266 min</td>\n",
       "      <td>\\n\\n6.1\\n</td>\n",
       "      <td>NaN</td>\n",
       "      <td>95</td>\n",
       "      <td>Henry MacRae</td>\n",
       "      <td>[Frank Merrill,  Natalie Kingston,  Al Ferguso...</td>\n",
       "    </tr>\n",
       "    <tr>\n",
       "      <th>9996</th>\n",
       "      <td>Uppi 2</td>\n",
       "      <td>(2015)</td>\n",
       "      <td>135 min</td>\n",
       "      <td>\\n\\n8.0\\n</td>\n",
       "      <td>NaN</td>\n",
       "      <td>7,889</td>\n",
       "      <td>Upendra</td>\n",
       "      <td>[Upendra,  Kristina Akheeva,  Parul Yadav,  Sa...</td>\n",
       "    </tr>\n",
       "    <tr>\n",
       "      <th>9997</th>\n",
       "      <td>Chirutha</td>\n",
       "      <td>(2007)</td>\n",
       "      <td>117 min</td>\n",
       "      <td>\\n\\n5.3\\n</td>\n",
       "      <td>NaN</td>\n",
       "      <td>1,820</td>\n",
       "      <td>Puri Jagannadh</td>\n",
       "      <td>[Ram Charan,  Neha Sharma,  Prakash Raj,  Ashi...</td>\n",
       "    </tr>\n",
       "    <tr>\n",
       "      <th>9998</th>\n",
       "      <td>Surge of Dawn</td>\n",
       "      <td>(2019)</td>\n",
       "      <td>NaN</td>\n",
       "      <td>\\n\\n7.7\\n</td>\n",
       "      <td>NaN</td>\n",
       "      <td>25</td>\n",
       "      <td>Alexander Fernandez</td>\n",
       "      <td>[Victoria Amber,  Vincent J. Roth,  Michelle B...</td>\n",
       "    </tr>\n",
       "    <tr>\n",
       "      <th>9999</th>\n",
       "      <td>Deewane</td>\n",
       "      <td>(2000)</td>\n",
       "      <td>164 min</td>\n",
       "      <td>\\n\\n4.7\\n</td>\n",
       "      <td>NaN</td>\n",
       "      <td>579</td>\n",
       "      <td>Harry Baweja</td>\n",
       "      <td>[Ajay Devgn,  Urmila Matondkar,  Mahima Chaudh...</td>\n",
       "    </tr>\n",
       "  </tbody>\n",
       "</table>\n",
       "<p>10000 rows × 8 columns</p>\n",
       "</div>"
      ],
      "text/plain": [
       "                        title    year duration imbd_rating  \\\n",
       "0               A descubierto  (2021)  114 min   \\n\\n5.3\\n   \n",
       "1     Noticias del gran mundo  (2020)  118 min   \\n\\n6.9\\n   \n",
       "2           Wonder Woman 1984  (2020)  151 min   \\n\\n5.4\\n   \n",
       "3               Mortal Kombat  (2021)      NaN         NaN   \n",
       "4                       Tenet  (2020)  150 min   \\n\\n7.5\\n   \n",
       "...                       ...     ...      ...         ...   \n",
       "9995         Tarzan the Tiger  (1929)  266 min   \\n\\n6.1\\n   \n",
       "9996                   Uppi 2  (2015)  135 min   \\n\\n8.0\\n   \n",
       "9997                 Chirutha  (2007)  117 min   \\n\\n5.3\\n   \n",
       "9998            Surge of Dawn  (2019)      NaN   \\n\\n7.7\\n   \n",
       "9999                  Deewane  (2000)  164 min   \\n\\n4.7\\n   \n",
       "\n",
       "                                         met_rating number_votes  \\\n",
       "0     \\n45        \\n        Metascore\\n                   21,416   \n",
       "1     \\n73        \\n        Metascore\\n                   10,583   \n",
       "2     \\n60        \\n        Metascore\\n                  144,978   \n",
       "3                                               NaN          NaN   \n",
       "4     \\n69        \\n        Metascore\\n                  279,317   \n",
       "...                                             ...          ...   \n",
       "9995                                            NaN           95   \n",
       "9996                                            NaN        7,889   \n",
       "9997                                            NaN        1,820   \n",
       "9998                                            NaN           25   \n",
       "9999                                            NaN          579   \n",
       "\n",
       "                 director                                              stars  \n",
       "0         Mikael Håfström  [Anthony Mackie,  Damson Idris,  Enzo Cilenti,...  \n",
       "1         Paul Greengrass  [Tom Hanks,  Helena Zengel,  Tom Astor,  Travi...  \n",
       "2           Patty Jenkins  [Gal Gadot,  Chris Pine,  Kristen Wiig,  Pedro...  \n",
       "3           Simon McQuoid  [Jessica McNamee,  Hiroyuki Sanada,  Josh Laws...  \n",
       "4       Christopher Nolan  [John David Washington,  Robert Pattinson,  El...  \n",
       "...                   ...                                                ...  \n",
       "9995         Henry MacRae  [Frank Merrill,  Natalie Kingston,  Al Ferguso...  \n",
       "9996              Upendra  [Upendra,  Kristina Akheeva,  Parul Yadav,  Sa...  \n",
       "9997       Puri Jagannadh  [Ram Charan,  Neha Sharma,  Prakash Raj,  Ashi...  \n",
       "9998  Alexander Fernandez  [Victoria Amber,  Vincent J. Roth,  Michelle B...  \n",
       "9999         Harry Baweja  [Ajay Devgn,  Urmila Matondkar,  Mahima Chaudh...  \n",
       "\n",
       "[10000 rows x 8 columns]"
      ]
     },
     "execution_count": 484,
     "metadata": {},
     "output_type": "execute_result"
    }
   ],
   "source": [
    "df_orig"
   ]
  },
  {
   "cell_type": "markdown",
   "metadata": {},
   "source": [
    "<span>&#x1f1ec;&#x1f1e7;</span>  And it worked, we have info for 10 000 movies in just a few lines of code! By the looks of it, this data needs a TON of cleaning...\n",
    "\n",
    "---\n",
    "\n",
    "<span>&#x1f1ea;&#x1f1f8;</span> Y funcionó, tenemos datos para 10 000 películas en solo unas líneas de códifo. También parece que estos datos necesitan un montón de limpieza"
   ]
  },
  {
   "cell_type": "markdown",
   "metadata": {},
   "source": [
    "## Data Cleaning"
   ]
  },
  {
   "cell_type": "code",
   "execution_count": 421,
   "metadata": {},
   "outputs": [],
   "source": [
    "# work on a copy of the original df\n",
    "df = df_orig.copy()"
   ]
  },
  {
   "cell_type": "code",
   "execution_count": 429,
   "metadata": {
    "scrolled": true
   },
   "outputs": [
    {
     "name": "stdout",
     "output_type": "stream",
     "text": [
      "(II) (2020)\n",
      "(IV)\n"
     ]
    }
   ],
   "source": [
    "# there appears to be a problem with year\n",
    "print(df[\"year\"].unique()[3])\n",
    "print(df[\"year\"].unique()[list(df[\"year\"].unique()).index('(IV)')])"
   ]
  },
  {
   "cell_type": "code",
   "execution_count": null,
   "metadata": {},
   "outputs": [],
   "source": [
    "# to pass years to float only where it makes sense\n",
    "def to_float(x):\n",
    "    try:\n",
    "        return float(x)\n",
    "    except:\n",
    "        return np.nan"
   ]
  },
  {
   "cell_type": "code",
   "execution_count": 453,
   "metadata": {
    "scrolled": true
   },
   "outputs": [
    {
     "name": "stdout",
     "output_type": "stream",
     "text": [
      "[list(['']) list(['(1914)']) list(['(1915)']) list(['(1916)'])\n",
      " list(['(1918)']) list(['(1920)']) list(['(1921)']) list(['(1923)'])\n",
      " list(['(1924)']) list(['(1925)']) list(['(1926)']) list(['(1927)'])\n",
      " list(['(1928)']) list(['(1929)']) list(['(1930)'])]\n"
     ]
    },
    {
     "data": {
      "text/plain": [
       "0    2021.0\n",
       "1    2020.0\n",
       "2    2020.0\n",
       "3    2021.0\n",
       "4    2020.0\n",
       "5    2020.0\n",
       "6    2021.0\n",
       "7    1984.0\n",
       "8    2021.0\n",
       "9    2020.0\n",
       "Name: year, dtype: float64"
      ]
     },
     "execution_count": 453,
     "metadata": {},
     "output_type": "execute_result"
    }
   ],
   "source": [
    "# operacion con el yr:\n",
    "\n",
    "# to deal withe years formatted as (II) (2020), we split all elements by a space, resulting in\n",
    "print(np.unique(df[\"year\"].str.split(\" \").values)[:15])\n",
    "\n",
    "#then, for each element, as they are lists, we select its last element [(II) , (2020)] and convert it to a float or to \n",
    "# a nan depending on whether it is convertible. This way, we deal with obvs whose value for year \n",
    "df[\"year\"].str.split(\" \").apply(lambda x: x[-1][1:-1]).apply(to_float)[:10]"
   ]
  },
  {
   "cell_type": "code",
   "execution_count": 454,
   "metadata": {},
   "outputs": [],
   "source": [
    "# operacion con el yr: \n",
    "df[\"year\"] = df[\"year\"].str.split(\" \").apply(lambda x: x[-1][1:-1]).apply(to_float)"
   ]
  },
  {
   "cell_type": "code",
   "execution_count": 455,
   "metadata": {},
   "outputs": [],
   "source": [
    "# operacion con minutos\n",
    "df['duration'] = df['duration'].str.split(\" \").apply(lambda x: x[0] if type(x) == list else x).astype(float)"
   ]
  },
  {
   "cell_type": "code",
   "execution_count": 456,
   "metadata": {},
   "outputs": [],
   "source": [
    "# operacion con imbd ratings\n",
    "df[\"imbd_rating\"] = df[\"imbd_rating\"].str.strip().astype(float)"
   ]
  },
  {
   "cell_type": "code",
   "execution_count": 457,
   "metadata": {},
   "outputs": [],
   "source": [
    "# operacion con metascore ratings\n",
    "df[\"met_rating\"] = df[\"met_rating\"].str.split().apply(lambda x: x[0] if type(x) == list else x).astype(float)"
   ]
  },
  {
   "cell_type": "code",
   "execution_count": 387,
   "metadata": {},
   "outputs": [
    {
     "name": "stdout",
     "output_type": "stream",
     "text": [
      "283\n",
      "125\n"
     ]
    }
   ],
   "source": [
    "contador_nolist = 0\n",
    "contador_lenno4 = 0\n",
    "\n",
    "for i in df['stars']:\n",
    "    if type(i) != list:\n",
    "        contador_nolist = contador_nolist + 1\n",
    "    else:\n",
    "        if len(i) != 4:\n",
    "            contador_lenno4 = contador_lenno4 + 1\n",
    "            \n",
    "print(\"elemtents not a list:\", contador_nolist)\n",
    "print(\"elements that are a list of less than 4 elements\" contador_lenno4)\n",
    "\n"
   ]
  },
  {
   "cell_type": "code",
   "execution_count": 465,
   "metadata": {},
   "outputs": [
    {
     "name": "stdout",
     "output_type": "stream",
     "text": [
      "{nan}\n"
     ]
    }
   ],
   "source": [
    "# all elements in stars which aren't a list are nans\n",
    "not_list = []\n",
    "for i in df['stars']:\n",
    "    if type(i) != list:\n",
    "        not_list.append(i)\n",
    "print(set(not_list))\n",
    "        "
   ]
  },
  {
   "cell_type": "code",
   "execution_count": 470,
   "metadata": {},
   "outputs": [],
   "source": [
    "longitud_stars = []\n",
    "for i in df['stars']:\n",
    "    if type(i) != list:\n",
    "        continue    \n",
    "    else:\n",
    "        longitud_stars.append(len(i))"
   ]
  },
  {
   "cell_type": "code",
   "execution_count": 472,
   "metadata": {},
   "outputs": [
    {
     "data": {
      "text/plain": [
       "(2, 4)"
      ]
     },
     "execution_count": 472,
     "metadata": {},
     "output_type": "execute_result"
    }
   ],
   "source": [
    "min(longitud_stars), max(longitud_stars)\n",
    "# all elements which aren't nans in Stars, which are lists, have minimum length of 2 and maximum of 4"
   ]
  },
  {
   "cell_type": "code",
   "execution_count": 413,
   "metadata": {},
   "outputs": [],
   "source": []
  },
  {
   "cell_type": "code",
   "execution_count": 473,
   "metadata": {},
   "outputs": [],
   "source": [
    "star1 = []\n",
    "star2 = []\n",
    "star3 = []\n",
    "star4 = []\n",
    "\n",
    "for i in df['stars']:\n",
    "    if (type(i) == list) and len(i) == 4:\n",
    "        star1.append(i[0])\n",
    "        star2.append(i[1])\n",
    "        star3.append(i[2])\n",
    "        star4.append(i[3])\n",
    "        \n",
    "    elif (type(i) == list) and len(i) == 3:\n",
    "        star1.append(i[0])\n",
    "        star2.append(i[1])\n",
    "        star3.append(i[2])\n",
    "        star4.append(np.nan)\n",
    "        \n",
    "    elif (type(i) == list) and len(i) == 2:\n",
    "        star1.append(i[0])\n",
    "        star2.append(i[1])\n",
    "        star3.append(np.nan)\n",
    "        star4.append(np.nan)\n",
    "        \n",
    "    elif (type(i) == list) and len(i) == 1:\n",
    "        star1.append(i[0])\n",
    "        star2.append(np.nan)\n",
    "        star3.append(np.nan)\n",
    "        star4.append(np.nan)\n",
    "        \n",
    "    else:\n",
    "        star1.append(np.nan)\n",
    "        star2.append(np.nan)\n",
    "        star3.append(np.nan)\n",
    "        star4.append(np.nan)\n",
    "        "
   ]
  },
  {
   "cell_type": "code",
   "execution_count": 474,
   "metadata": {},
   "outputs": [],
   "source": [
    "df[\"star_1\"], df[\"star_2\"], df[\"star_3\"], df[\"star_4\"] = star1, star2, star3, star4"
   ]
  },
  {
   "cell_type": "code",
   "execution_count": 480,
   "metadata": {},
   "outputs": [],
   "source": [
    "# number of votes, commas separating 100s: replace comma by nothing and force to float\n",
    "df['number_votes'] = df['number_votes'].str.replace(\",\", \"\").astype(float)"
   ]
  },
  {
   "cell_type": "code",
   "execution_count": 493,
   "metadata": {},
   "outputs": [],
   "source": [
    "anios = pd.to_datetime(df['year'], format='%Y')"
   ]
  },
  {
   "cell_type": "code",
   "execution_count": 513,
   "metadata": {},
   "outputs": [],
   "source": [
    "df['year'] = anios.dt.year.astype('Int64')"
   ]
  },
  {
   "cell_type": "code",
   "execution_count": null,
   "metadata": {},
   "outputs": [],
   "source": [
    "df.Date = pd.to_datetime(df.Date)\n",
    "\n",
    "df['yyyy'] = df.Date.dt.year.astype('Int64')"
   ]
  },
  {
   "cell_type": "markdown",
   "metadata": {},
   "source": [
    "## Data Analysis\n",
    "\n",
    "At last, the data is clean... Time to pull some insights from it"
   ]
  },
  {
   "cell_type": "code",
   "execution_count": 517,
   "metadata": {},
   "outputs": [
    {
     "data": {
      "text/html": [
       "<div>\n",
       "<style scoped>\n",
       "    .dataframe tbody tr th:only-of-type {\n",
       "        vertical-align: middle;\n",
       "    }\n",
       "\n",
       "    .dataframe tbody tr th {\n",
       "        vertical-align: top;\n",
       "    }\n",
       "\n",
       "    .dataframe thead th {\n",
       "        text-align: right;\n",
       "    }\n",
       "</style>\n",
       "<table border=\"1\" class=\"dataframe\">\n",
       "  <thead>\n",
       "    <tr style=\"text-align: right;\">\n",
       "      <th></th>\n",
       "      <th>title</th>\n",
       "      <th>year</th>\n",
       "      <th>duration</th>\n",
       "      <th>imbd_rating</th>\n",
       "      <th>met_rating</th>\n",
       "      <th>number_votes</th>\n",
       "      <th>director</th>\n",
       "      <th>stars</th>\n",
       "      <th>star_1</th>\n",
       "      <th>star_2</th>\n",
       "      <th>star_3</th>\n",
       "      <th>star_4</th>\n",
       "    </tr>\n",
       "  </thead>\n",
       "  <tbody>\n",
       "    <tr>\n",
       "      <th>0</th>\n",
       "      <td>A descubierto</td>\n",
       "      <td>2021</td>\n",
       "      <td>114.0</td>\n",
       "      <td>5.3</td>\n",
       "      <td>45.0</td>\n",
       "      <td>21416.0</td>\n",
       "      <td>Mikael Håfström</td>\n",
       "      <td>[Anthony Mackie,  Damson Idris,  Enzo Cilenti,...</td>\n",
       "      <td>Anthony Mackie</td>\n",
       "      <td>Damson Idris</td>\n",
       "      <td>Enzo Cilenti</td>\n",
       "      <td>Emily Beecham</td>\n",
       "    </tr>\n",
       "    <tr>\n",
       "      <th>1</th>\n",
       "      <td>Noticias del gran mundo</td>\n",
       "      <td>2020</td>\n",
       "      <td>118.0</td>\n",
       "      <td>6.9</td>\n",
       "      <td>73.0</td>\n",
       "      <td>10583.0</td>\n",
       "      <td>Paul Greengrass</td>\n",
       "      <td>[Tom Hanks,  Helena Zengel,  Tom Astor,  Travi...</td>\n",
       "      <td>Tom Hanks</td>\n",
       "      <td>Helena Zengel</td>\n",
       "      <td>Tom Astor</td>\n",
       "      <td>Travis Johnson</td>\n",
       "    </tr>\n",
       "    <tr>\n",
       "      <th>2</th>\n",
       "      <td>Wonder Woman 1984</td>\n",
       "      <td>2020</td>\n",
       "      <td>151.0</td>\n",
       "      <td>5.4</td>\n",
       "      <td>60.0</td>\n",
       "      <td>144978.0</td>\n",
       "      <td>Patty Jenkins</td>\n",
       "      <td>[Gal Gadot,  Chris Pine,  Kristen Wiig,  Pedro...</td>\n",
       "      <td>Gal Gadot</td>\n",
       "      <td>Chris Pine</td>\n",
       "      <td>Kristen Wiig</td>\n",
       "      <td>Pedro Pascal</td>\n",
       "    </tr>\n",
       "    <tr>\n",
       "      <th>3</th>\n",
       "      <td>Mortal Kombat</td>\n",
       "      <td>2021</td>\n",
       "      <td>NaN</td>\n",
       "      <td>NaN</td>\n",
       "      <td>NaN</td>\n",
       "      <td>NaN</td>\n",
       "      <td>Simon McQuoid</td>\n",
       "      <td>[Jessica McNamee,  Hiroyuki Sanada,  Josh Laws...</td>\n",
       "      <td>Jessica McNamee</td>\n",
       "      <td>Hiroyuki Sanada</td>\n",
       "      <td>Josh Lawson</td>\n",
       "      <td>Joe Taslim</td>\n",
       "    </tr>\n",
       "    <tr>\n",
       "      <th>4</th>\n",
       "      <td>Tenet</td>\n",
       "      <td>2020</td>\n",
       "      <td>150.0</td>\n",
       "      <td>7.5</td>\n",
       "      <td>69.0</td>\n",
       "      <td>279317.0</td>\n",
       "      <td>Christopher Nolan</td>\n",
       "      <td>[John David Washington,  Robert Pattinson,  El...</td>\n",
       "      <td>John David Washington</td>\n",
       "      <td>Robert Pattinson</td>\n",
       "      <td>Elizabeth Debicki</td>\n",
       "      <td>Juhan Ulfsak</td>\n",
       "    </tr>\n",
       "    <tr>\n",
       "      <th>...</th>\n",
       "      <td>...</td>\n",
       "      <td>...</td>\n",
       "      <td>...</td>\n",
       "      <td>...</td>\n",
       "      <td>...</td>\n",
       "      <td>...</td>\n",
       "      <td>...</td>\n",
       "      <td>...</td>\n",
       "      <td>...</td>\n",
       "      <td>...</td>\n",
       "      <td>...</td>\n",
       "      <td>...</td>\n",
       "    </tr>\n",
       "    <tr>\n",
       "      <th>9995</th>\n",
       "      <td>Tarzan the Tiger</td>\n",
       "      <td>1929</td>\n",
       "      <td>266.0</td>\n",
       "      <td>6.1</td>\n",
       "      <td>NaN</td>\n",
       "      <td>95.0</td>\n",
       "      <td>Henry MacRae</td>\n",
       "      <td>[Frank Merrill,  Natalie Kingston,  Al Ferguso...</td>\n",
       "      <td>Frank Merrill</td>\n",
       "      <td>Natalie Kingston</td>\n",
       "      <td>Al Ferguson</td>\n",
       "      <td>Lillian Worth</td>\n",
       "    </tr>\n",
       "    <tr>\n",
       "      <th>9996</th>\n",
       "      <td>Uppi 2</td>\n",
       "      <td>2015</td>\n",
       "      <td>135.0</td>\n",
       "      <td>8.0</td>\n",
       "      <td>NaN</td>\n",
       "      <td>7889.0</td>\n",
       "      <td>Upendra</td>\n",
       "      <td>[Upendra,  Kristina Akheeva,  Parul Yadav,  Sa...</td>\n",
       "      <td>Upendra</td>\n",
       "      <td>Kristina Akheeva</td>\n",
       "      <td>Parul Yadav</td>\n",
       "      <td>Sayaji Shinde</td>\n",
       "    </tr>\n",
       "    <tr>\n",
       "      <th>9997</th>\n",
       "      <td>Chirutha</td>\n",
       "      <td>2007</td>\n",
       "      <td>117.0</td>\n",
       "      <td>5.3</td>\n",
       "      <td>NaN</td>\n",
       "      <td>1820.0</td>\n",
       "      <td>Puri Jagannadh</td>\n",
       "      <td>[Ram Charan,  Neha Sharma,  Prakash Raj,  Ashi...</td>\n",
       "      <td>Ram Charan</td>\n",
       "      <td>Neha Sharma</td>\n",
       "      <td>Prakash Raj</td>\n",
       "      <td>Ashish Vidyarthi</td>\n",
       "    </tr>\n",
       "    <tr>\n",
       "      <th>9998</th>\n",
       "      <td>Surge of Dawn</td>\n",
       "      <td>2019</td>\n",
       "      <td>NaN</td>\n",
       "      <td>7.7</td>\n",
       "      <td>NaN</td>\n",
       "      <td>25.0</td>\n",
       "      <td>Alexander Fernandez</td>\n",
       "      <td>[Victoria Amber,  Vincent J. Roth,  Michelle B...</td>\n",
       "      <td>Victoria Amber</td>\n",
       "      <td>Vincent J. Roth</td>\n",
       "      <td>Michelle Bernard</td>\n",
       "      <td>Joseph Culp</td>\n",
       "    </tr>\n",
       "    <tr>\n",
       "      <th>9999</th>\n",
       "      <td>Deewane</td>\n",
       "      <td>2000</td>\n",
       "      <td>164.0</td>\n",
       "      <td>4.7</td>\n",
       "      <td>NaN</td>\n",
       "      <td>579.0</td>\n",
       "      <td>Harry Baweja</td>\n",
       "      <td>[Ajay Devgn,  Urmila Matondkar,  Mahima Chaudh...</td>\n",
       "      <td>Ajay Devgn</td>\n",
       "      <td>Urmila Matondkar</td>\n",
       "      <td>Mahima Chaudhry</td>\n",
       "      <td>Paresh Rawal</td>\n",
       "    </tr>\n",
       "  </tbody>\n",
       "</table>\n",
       "<p>10000 rows × 12 columns</p>\n",
       "</div>"
      ],
      "text/plain": [
       "                        title  year  duration  imbd_rating  met_rating  \\\n",
       "0               A descubierto  2021     114.0          5.3        45.0   \n",
       "1     Noticias del gran mundo  2020     118.0          6.9        73.0   \n",
       "2           Wonder Woman 1984  2020     151.0          5.4        60.0   \n",
       "3               Mortal Kombat  2021       NaN          NaN         NaN   \n",
       "4                       Tenet  2020     150.0          7.5        69.0   \n",
       "...                       ...   ...       ...          ...         ...   \n",
       "9995         Tarzan the Tiger  1929     266.0          6.1         NaN   \n",
       "9996                   Uppi 2  2015     135.0          8.0         NaN   \n",
       "9997                 Chirutha  2007     117.0          5.3         NaN   \n",
       "9998            Surge of Dawn  2019       NaN          7.7         NaN   \n",
       "9999                  Deewane  2000     164.0          4.7         NaN   \n",
       "\n",
       "      number_votes             director  \\\n",
       "0          21416.0      Mikael Håfström   \n",
       "1          10583.0      Paul Greengrass   \n",
       "2         144978.0        Patty Jenkins   \n",
       "3              NaN        Simon McQuoid   \n",
       "4         279317.0    Christopher Nolan   \n",
       "...            ...                  ...   \n",
       "9995          95.0         Henry MacRae   \n",
       "9996        7889.0              Upendra   \n",
       "9997        1820.0       Puri Jagannadh   \n",
       "9998          25.0  Alexander Fernandez   \n",
       "9999         579.0         Harry Baweja   \n",
       "\n",
       "                                                  stars  \\\n",
       "0     [Anthony Mackie,  Damson Idris,  Enzo Cilenti,...   \n",
       "1     [Tom Hanks,  Helena Zengel,  Tom Astor,  Travi...   \n",
       "2     [Gal Gadot,  Chris Pine,  Kristen Wiig,  Pedro...   \n",
       "3     [Jessica McNamee,  Hiroyuki Sanada,  Josh Laws...   \n",
       "4     [John David Washington,  Robert Pattinson,  El...   \n",
       "...                                                 ...   \n",
       "9995  [Frank Merrill,  Natalie Kingston,  Al Ferguso...   \n",
       "9996  [Upendra,  Kristina Akheeva,  Parul Yadav,  Sa...   \n",
       "9997  [Ram Charan,  Neha Sharma,  Prakash Raj,  Ashi...   \n",
       "9998  [Victoria Amber,  Vincent J. Roth,  Michelle B...   \n",
       "9999  [Ajay Devgn,  Urmila Matondkar,  Mahima Chaudh...   \n",
       "\n",
       "                     star_1             star_2              star_3  \\\n",
       "0            Anthony Mackie       Damson Idris        Enzo Cilenti   \n",
       "1                 Tom Hanks      Helena Zengel           Tom Astor   \n",
       "2                 Gal Gadot         Chris Pine        Kristen Wiig   \n",
       "3           Jessica McNamee    Hiroyuki Sanada         Josh Lawson   \n",
       "4     John David Washington   Robert Pattinson   Elizabeth Debicki   \n",
       "...                     ...                ...                 ...   \n",
       "9995          Frank Merrill   Natalie Kingston         Al Ferguson   \n",
       "9996                Upendra   Kristina Akheeva         Parul Yadav   \n",
       "9997             Ram Charan        Neha Sharma         Prakash Raj   \n",
       "9998         Victoria Amber    Vincent J. Roth    Michelle Bernard   \n",
       "9999             Ajay Devgn   Urmila Matondkar     Mahima Chaudhry   \n",
       "\n",
       "                 star_4  \n",
       "0         Emily Beecham  \n",
       "1        Travis Johnson  \n",
       "2          Pedro Pascal  \n",
       "3            Joe Taslim  \n",
       "4          Juhan Ulfsak  \n",
       "...                 ...  \n",
       "9995      Lillian Worth  \n",
       "9996      Sayaji Shinde  \n",
       "9997   Ashish Vidyarthi  \n",
       "9998        Joseph Culp  \n",
       "9999       Paresh Rawal  \n",
       "\n",
       "[10000 rows x 12 columns]"
      ]
     },
     "execution_count": 517,
     "metadata": {},
     "output_type": "execute_result"
    }
   ],
   "source": [
    "df"
   ]
  }
 ],
 "metadata": {
  "kernelspec": {
   "display_name": "Python 3",
   "language": "python",
   "name": "python3"
  },
  "language_info": {
   "codemirror_mode": {
    "name": "ipython",
    "version": 3
   },
   "file_extension": ".py",
   "mimetype": "text/x-python",
   "name": "python",
   "nbconvert_exporter": "python",
   "pygments_lexer": "ipython3",
   "version": "3.8.3"
  },
  "varInspector": {
   "cols": {
    "lenName": 16,
    "lenType": 16,
    "lenVar": 40
   },
   "kernels_config": {
    "python": {
     "delete_cmd_postfix": "",
     "delete_cmd_prefix": "del ",
     "library": "var_list.py",
     "varRefreshCmd": "print(var_dic_list())"
    },
    "r": {
     "delete_cmd_postfix": ") ",
     "delete_cmd_prefix": "rm(",
     "library": "var_list.r",
     "varRefreshCmd": "cat(var_dic_list()) "
    }
   },
   "position": {
    "height": "496px",
    "left": "1530px",
    "right": "20px",
    "top": "-2px",
    "width": "350px"
   },
   "types_to_exclude": [
    "module",
    "function",
    "builtin_function_or_method",
    "instance",
    "_Feature"
   ],
   "window_display": true
  }
 },
 "nbformat": 4,
 "nbformat_minor": 4
}
